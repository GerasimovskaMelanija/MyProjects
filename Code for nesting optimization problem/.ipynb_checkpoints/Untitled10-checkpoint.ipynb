{
 "cells": [
  {
   "cell_type": "code",
   "execution_count": 93,
   "metadata": {},
   "outputs": [
    {
     "data": {
      "image/png": "[encoded data removed]",
      "text/plain": [
       "<Figure size 432x288 with 1 Axes>"
      ]
     },
     "metadata": {
      "needs_background": "light"
     },
     "output_type": "display_data"
    }
   ],
   "source": [
    "import skgeom as sg\n",
    "from skgeom.draw import draw\n",
    "from skgeom import minkowski\n",
    "coord_of_polygon1 = [[0, 86], [966, 142], [1983, 0], [2185, 238], [2734, 217],[3000, 767],[2819, 900], [2819, 1360], [3000, 1439], [2734, 2043], [2185, 2022], [1983, 2260], [966, 2118], [0, 2174]]\n",
    "coord_of_polygon6 = [[0, 173], [1761, 0], [2183, 650], [2183, 1010], [1761, 1660], [0, 1487]]\n",
    "#p1 = sg.Polygon([sg.Point2(0, 86),sg.Point2(966,142), sg.Point2(1983,0), sg.Point2(2185,238), sg.Point2(3000, 767), sg.Point2(2819, 900), sg.Point2(2819,1360), sg.Point2(3000, 1439), sg.Point2(2734, 2043), sg.Point2(2185, 2022), sg.Point2(1983, 2260), sg.Point2(966,2118), sg.Point2(0, 2174) ])\n",
    "#p1 = sg.Polygon([sg.Point2(-1, -1), sg.Point2(1, -1), sg.Point2(0, 1)])\n",
    "coord_p0 = [[0, 86], [966, 142], [1983, 0], [2185, 238], [2734, 217], [3000, 767], [2819, 900], [2819, 1360], [3000, 1439], [2734, 2043],[2185, 2022], [1983, 2260], [966, 2118],[0, 2174]]\n",
    "p1 = sg.Polygon(coord_p0)\n",
    "coord_p1 = [[0, 2349], [966, 2405], [1983, 2263], [2185, 2501], [2734, 2480], [3000, 3030], [2819, 3163], [2819, 3623], [3000, 3702], [2734, 4306], [2185, 4285], [1983, 4523], [966, 4381], [0, 4437]]\n",
    "p2 = sg.Polygon(coord_p1)\n",
    "#p1 = sg.Polygon([[-1,-1], [1, -1], [0,1]])\n",
    "#p2 = sg.Polygon([sg.Point2(0,173), sg.Point2(1761, 0), sg.Point2(2183, 650), sg.Point2(2183, 1010), sg.Point2(1761, 1660), sg.Point2(0, 1487)])\n",
    "#p2 = sg.Polygon([sg.Point2(3, -1), sg.Point2(5, -1), sg.Point2(5, 1), sg.Point2(3, 1)])\n",
    "#p2 = sg.Polygon([[3,-1], [5,-1], [5,1], [3,1]])\n",
    "draw(p1, facecolor='red')\n",
    "draw(p2, facecolor='blue')"
   ]
  },
  {
   "cell_type": "code",
   "execution_count": 94,
   "metadata": {},
   "outputs": [
    {
     "data": {
      "image/png": "[encoded data removed]",
      "text/plain": [
       "<Figure size 432x288 with 1 Axes>"
      ]
     },
     "metadata": {
      "needs_background": "light"
     },
     "output_type": "display_data"
    }
   ],
   "source": [
    "result = minkowski.minkowski_sum(p2, p1)\n",
    "draw(result)"
   ]
  },
  {
   "cell_type": "code",
   "execution_count": 95,
   "metadata": {},
   "outputs": [
    {
     "ename": "TypeError",
     "evalue": "__init__(): incompatible constructor arguments. The following argument types are supported:\n    1. skgeom._skgeom.Polygon()\n    2. skgeom._skgeom.Polygon(arg0: List[skgeom._skgeom.Point2])\n    3. skgeom._skgeom.Polygon(arg0: numpy.ndarray[float64])\n\nInvoked with: Polygon_with_holes_2(\nBoundary(\nPolygon_2(\n  PointC2(-0, 2435)\n  PointC2(966, 2491)\n  PointC2(1983, 2349)\n  PointC2(2949, 2405)\n  PointC2(3966, 2263)\n  PointC2(4168, 2501)\n  PointC2(4717, 2480)\n  PointC2(4919, 2718)\n  PointC2(5468, 2697)\n  PointC2(5734, 3247)\n  PointC2(6000, 3797)\n  PointC2(5819, 3930)\n  PointC2(5819, 4094.75)\n  PointC2(6000, 4469)\n  PointC2(5819, 4879.99)\n  PointC2(5819, 5062)\n  PointC2(6000, 5141)\n  PointC2(5734, 5745)\n  PointC2(5468, 6349)\n  PointC2(4919, 6328)\n  PointC2(4717, 6566)\n  PointC2(4168, 6545)\n  PointC2(3966, 6783)\n  PointC2(2949, 6641)\n  PointC2(1983, 6697)\n  PointC2(966, 6555)\n  PointC2(-0, 6611)\n  PointC2(-0, 4523)\n)\n\nHoles\n0\n)\n",
     "output_type": "error",
     "traceback": [
      "\u001b[1;31m---------------------------------------------------------------------------\u001b[0m",
      "\u001b[1;31mTypeError\u001b[0m                                 Traceback (most recent call last)",
      "\u001b[1;32m<ipython-input-95-874c865a979e>\u001b[0m in \u001b[0;36m<module>\u001b[1;34m\u001b[0m\n\u001b[1;32m----> 1\u001b[1;33m \u001b[0mkkkk\u001b[0m \u001b[1;33m=\u001b[0m \u001b[0msg\u001b[0m\u001b[1;33m.\u001b[0m\u001b[0mPolygon\u001b[0m\u001b[1;33m(\u001b[0m\u001b[0mresult\u001b[0m\u001b[1;33m)\u001b[0m\u001b[1;33m\u001b[0m\u001b[1;33m\u001b[0m\u001b[0m\n\u001b[0m",
      "\u001b[1;31mTypeError\u001b[0m: __init__(): incompatible constructor arguments. The following argument types are supported:\n    1. skgeom._skgeom.Polygon()\n    2. skgeom._skgeom.Polygon(arg0: List[skgeom._skgeom.Point2])\n    3. skgeom._skgeom.Polygon(arg0: numpy.ndarray[float64])\n\nInvoked with: Polygon_with_holes_2(\nBoundary(\nPolygon_2(\n  PointC2(-0, 2435)\n  PointC2(966, 2491)\n  PointC2(1983, 2349)\n  PointC2(2949, 2405)\n  PointC2(3966, 2263)\n  PointC2(4168, 2501)\n  PointC2(4717, 2480)\n  PointC2(4919, 2718)\n  PointC2(5468, 2697)\n  PointC2(5734, 3247)\n  PointC2(6000, 3797)\n  PointC2(5819, 3930)\n  PointC2(5819, 4094.75)\n  PointC2(6000, 4469)\n  PointC2(5819, 4879.99)\n  PointC2(5819, 5062)\n  PointC2(6000, 5141)\n  PointC2(5734, 5745)\n  PointC2(5468, 6349)\n  PointC2(4919, 6328)\n  PointC2(4717, 6566)\n  PointC2(4168, 6545)\n  PointC2(3966, 6783)\n  PointC2(2949, 6641)\n  PointC2(1983, 6697)\n  PointC2(966, 6555)\n  PointC2(-0, 6611)\n  PointC2(-0, 4523)\n)\n\nHoles\n0\n)\n"
     ]
    }
   ],
   "source": [
    "kkkk = sg.Polygon(result)"
   ]
  },
  {
   "cell_type": "code",
   "execution_count": 20,
   "metadata": {},
   "outputs": [
    {
     "ename": "TypeError",
     "evalue": "argument of type 'skgeom._skgeom.PolygonWithHoles' is not iterable",
     "output_type": "error",
     "traceback": [
      "\u001b[1;31m---------------------------------------------------------------------------\u001b[0m",
      "\u001b[1;31mTypeError\u001b[0m                                 Traceback (most recent call last)",
      "\u001b[1;32m<ipython-input-20-0bd3de3a9e42>\u001b[0m in \u001b[0;36m<module>\u001b[1;34m\u001b[0m\n\u001b[1;32m----> 1\u001b[1;33m \u001b[1;32mif\u001b[0m \u001b[0mpoint\u001b[0m \u001b[1;32min\u001b[0m \u001b[0mresult\u001b[0m\u001b[1;33m:\u001b[0m\u001b[1;33m\u001b[0m\u001b[1;33m\u001b[0m\u001b[0m\n\u001b[0m\u001b[0;32m      2\u001b[0m     \u001b[0mprint\u001b[0m\u001b[1;33m(\u001b[0m\u001b[1;32mTrue\u001b[0m\u001b[1;33m)\u001b[0m\u001b[1;33m\u001b[0m\u001b[1;33m\u001b[0m\u001b[0m\n",
      "\u001b[1;31mTypeError\u001b[0m: argument of type 'skgeom._skgeom.PolygonWithHoles' is not iterable"
     ]
    }
   ],
   "source": [
    "if point in result:\n",
    "    print(True)"
   ]
  },
  {
   "cell_type": "code",
   "execution_count": 3,
   "metadata": {},
   "outputs": [],
   "source": [
    "coord_of_polygon1 = [[0, 86], [966, 142], [1983, 0], [2185, 238], [2734, 217],[3000, 767],[2819, 900], [2819, 1360], [3000, 1439], [2734, 2043], [2185, 2022], [1983, 2260], [966, 2118], [0, 2174]]\n",
    "coord_of_polygon6 = [[0, 173], [1761, 0], [2183, 650], [2183, 1010], [1761, 1660], [0, 1487]]"
   ]
  },
  {
   "cell_type": "code",
   "execution_count": 81,
   "metadata": {},
   "outputs": [],
   "source": [
    "import numpy as np\n",
    "koo =[]\n",
    "for m in range(len(coord_of_polygon1)):\n",
    "    for k in range(len(coord_of_polygon6)):\n",
    "        x=coord_of_polygon1[m][0] + coord_of_polygon6[k][0]\n",
    "        y = coord_of_polygon1[m][1] + coord_of_polygon6[k][1]\n",
    "        koo.append([x,y])\n",
    "from operator import itemgetter, attrgetter, methodcaller\n",
    "koo_sorted = sorted(koo, key=itemgetter(1))"
   ]
  },
  {
   "cell_type": "code",
   "execution_count": 82,
   "metadata": {},
   "outputs": [
    {
     "data": {
      "text/plain": [
       "[[0, 259],\n",
       " [1761, 86],\n",
       " [2183, 736],\n",
       " [2183, 1096],\n",
       " [1761, 1746],\n",
       " [0, 1573],\n",
       " [966, 315],\n",
       " [2727, 142],\n",
       " [3149, 792],\n",
       " [3149, 1152],\n",
       " [2727, 1802],\n",
       " [966, 1629],\n",
       " [1983, 173],\n",
       " [3744, 0],\n",
       " [4166, 650],\n",
       " [4166, 1010],\n",
       " [3744, 1660],\n",
       " [1983, 1487],\n",
       " [2185, 411],\n",
       " [3946, 238],\n",
       " [4368, 888],\n",
       " [4368, 1248],\n",
       " [3946, 1898],\n",
       " [2185, 1725],\n",
       " [2734, 390],\n",
       " [4495, 217],\n",
       " [4917, 867],\n",
       " [4917, 1227],\n",
       " [4495, 1877],\n",
       " [2734, 1704],\n",
       " [3000, 940],\n",
       " [4761, 767],\n",
       " [5183, 1417],\n",
       " [5183, 1777],\n",
       " [4761, 2427],\n",
       " [3000, 2254],\n",
       " [2819, 1073],\n",
       " [4580, 900],\n",
       " [5002, 1550],\n",
       " [5002, 1910],\n",
       " [4580, 2560],\n",
       " [2819, 2387],\n",
       " [2819, 1533],\n",
       " [4580, 1360],\n",
       " [5002, 2010],\n",
       " [5002, 2370],\n",
       " [4580, 3020],\n",
       " [2819, 2847],\n",
       " [3000, 1612],\n",
       " [4761, 1439],\n",
       " [5183, 2089],\n",
       " [5183, 2449],\n",
       " [4761, 3099],\n",
       " [3000, 2926],\n",
       " [2734, 2216],\n",
       " [4495, 2043],\n",
       " [4917, 2693],\n",
       " [4917, 3053],\n",
       " [4495, 3703],\n",
       " [2734, 3530],\n",
       " [2185, 2195],\n",
       " [3946, 2022],\n",
       " [4368, 2672],\n",
       " [4368, 3032],\n",
       " [3946, 3682],\n",
       " [2185, 3509],\n",
       " [1983, 2433],\n",
       " [3744, 2260],\n",
       " [4166, 2910],\n",
       " [4166, 3270],\n",
       " [3744, 3920],\n",
       " [1983, 3747],\n",
       " [966, 2291],\n",
       " [2727, 2118],\n",
       " [3149, 2768],\n",
       " [3149, 3128],\n",
       " [2727, 3778],\n",
       " [966, 3605],\n",
       " [0, 2347],\n",
       " [1761, 2174],\n",
       " [2183, 2824],\n",
       " [2183, 3184],\n",
       " [1761, 3834],\n",
       " [0, 3661]]"
      ]
     },
     "execution_count": 82,
     "metadata": {},
     "output_type": "execute_result"
    }
   ],
   "source": [
    "koo"
   ]
  },
  {
   "cell_type": "code",
   "execution_count": 84,
   "metadata": {},
   "outputs": [],
   "source": [
    "m_polygon = Polygon(koo_sorted)"
   ]
  },
  {
   "cell_type": "code",
   "execution_count": 85,
   "metadata": {},
   "outputs": [
    {
     "data": {
      "image/svg+xml": [
       "<svg xmlns=\"http://www.w3.org/2000/svg\" xmlns:xlink=\"http://www.w3.org/1999/xlink\" width=\"300\" height=\"300\" viewBox=\"-207.32 -207.32 5597.639999999999 4334.639999999999\" preserveAspectRatio=\"xMinYMin meet\"><g transform=\"matrix(1,0,0,-1,0,3919.9999999999995)\"><path fill-rule=\"evenodd\" fill=\"#ff3333\" stroke=\"#555555\" stroke-width=\"37.3176\" opacity=\"0.6\" d=\"M 3744.0,0.0 L 1761.0,86.0 L 2727.0,142.0 L 1983.0,173.0 L 4495.0,217.0 L 3946.0,238.0 L 0.0,259.0 L 966.0,315.0 L 2734.0,390.0 L 2185.0,411.0 L 4166.0,650.0 L 2183.0,736.0 L 4761.0,767.0 L 3149.0,792.0 L 4917.0,867.0 L 4368.0,888.0 L 4580.0,900.0 L 3000.0,940.0 L 4166.0,1010.0 L 2819.0,1073.0 L 2183.0,1096.0 L 3149.0,1152.0 L 4917.0,1227.0 L 4368.0,1248.0 L 4580.0,1360.0 L 5183.0,1417.0 L 4761.0,1439.0 L 1983.0,1487.0 L 2819.0,1533.0 L 5002.0,1550.0 L 0.0,1573.0 L 3000.0,1612.0 L 966.0,1629.0 L 3744.0,1660.0 L 2734.0,1704.0 L 2185.0,1725.0 L 1761.0,1746.0 L 5183.0,1777.0 L 2727.0,1802.0 L 4495.0,1877.0 L 3946.0,1898.0 L 5002.0,1910.0 L 5002.0,2010.0 L 3946.0,2022.0 L 4495.0,2043.0 L 5183.0,2089.0 L 2727.0,2118.0 L 1761.0,2174.0 L 2185.0,2195.0 L 2734.0,2216.0 L 3000.0,2254.0 L 3744.0,2260.0 L 966.0,2291.0 L 0.0,2347.0 L 5002.0,2370.0 L 2819.0,2387.0 L 4761.0,2427.0 L 1983.0,2433.0 L 5183.0,2449.0 L 4580.0,2560.0 L 4368.0,2672.0 L 4917.0,2693.0 L 3149.0,2768.0 L 2183.0,2824.0 L 2819.0,2847.0 L 4166.0,2910.0 L 3000.0,2926.0 L 4580.0,3020.0 L 4368.0,3032.0 L 4917.0,3053.0 L 4761.0,3099.0 L 3149.0,3128.0 L 2183.0,3184.0 L 4166.0,3270.0 L 2185.0,3509.0 L 2734.0,3530.0 L 966.0,3605.0 L 0.0,3661.0 L 3946.0,3682.0 L 4495.0,3703.0 L 1983.0,3747.0 L 2727.0,3778.0 L 1761.0,3834.0 L 3744.0,3920.0 L 3744.0,0.0 z\" /></g></svg>"
      ],
      "text/plain": [
       "<shapely.geometry.polygon.Polygon at 0x1aa05925908>"
      ]
     },
     "execution_count": 85,
     "metadata": {},
     "output_type": "execute_result"
    }
   ],
   "source": [
    "m_polygon"
   ]
  },
  {
   "cell_type": "code",
   "execution_count": 11,
   "metadata": {},
   "outputs": [],
   "source": [
    "m = sg.Polygon(koo)"
   ]
  },
  {
   "cell_type": "code",
   "execution_count": 12,
   "metadata": {},
   "outputs": [
    {
     "data": {
      "image/png": "[encoded data removed]",
      "text/plain": [
       "<Figure size 432x288 with 1 Axes>"
      ]
     },
     "metadata": {
      "needs_background": "light"
     },
     "output_type": "display_data"
    }
   ],
   "source": [
    "draw(m)"
   ]
  },
  {
   "cell_type": "code",
   "execution_count": 37,
   "metadata": {},
   "outputs": [],
   "source": [
    "from shapely.geometry import Polygon, Point"
   ]
  },
  {
   "cell_type": "code",
   "execution_count": 41,
   "metadata": {},
   "outputs": [],
   "source": [
    "hh = Polygon(koo)"
   ]
  },
  {
   "cell_type": "code",
   "execution_count": 73,
   "metadata": {},
   "outputs": [
    {
     "data": {
      "image/svg+xml": [
       "<svg xmlns=\"http://www.w3.org/2000/svg\" xmlns:xlink=\"http://www.w3.org/1999/xlink\" width=\"300\" height=\"300\" viewBox=\"-207.32 -207.32 5597.639999999999 4334.639999999999\" preserveAspectRatio=\"xMinYMin meet\"><g transform=\"matrix(1,0,0,-1,0,3919.9999999999995)\"><path fill-rule=\"evenodd\" fill=\"#ff3333\" stroke=\"#555555\" stroke-width=\"37.3176\" opacity=\"0.6\" d=\"M 0.0,259.0 L 1761.0,86.0 L 2183.0,736.0 L 2183.0,1096.0 L 1761.0,1746.0 L 0.0,1573.0 L 966.0,315.0 L 2727.0,142.0 L 3149.0,792.0 L 3149.0,1152.0 L 2727.0,1802.0 L 966.0,1629.0 L 1983.0,173.0 L 3744.0,0.0 L 4166.0,650.0 L 4166.0,1010.0 L 3744.0,1660.0 L 1983.0,1487.0 L 2185.0,411.0 L 3946.0,238.0 L 4368.0,888.0 L 4368.0,1248.0 L 3946.0,1898.0 L 2185.0,1725.0 L 2734.0,390.0 L 4495.0,217.0 L 4917.0,867.0 L 4917.0,1227.0 L 4495.0,1877.0 L 2734.0,1704.0 L 3000.0,940.0 L 4761.0,767.0 L 5183.0,1417.0 L 5183.0,1777.0 L 4761.0,2427.0 L 3000.0,2254.0 L 2819.0,1073.0 L 4580.0,900.0 L 5002.0,1550.0 L 5002.0,1910.0 L 4580.0,2560.0 L 2819.0,2387.0 L 2819.0,1533.0 L 4580.0,1360.0 L 5002.0,2010.0 L 5002.0,2370.0 L 4580.0,3020.0 L 2819.0,2847.0 L 3000.0,1612.0 L 4761.0,1439.0 L 5183.0,2089.0 L 5183.0,2449.0 L 4761.0,3099.0 L 3000.0,2926.0 L 2734.0,2216.0 L 4495.0,2043.0 L 4917.0,2693.0 L 4917.0,3053.0 L 4495.0,3703.0 L 2734.0,3530.0 L 2185.0,2195.0 L 3946.0,2022.0 L 4368.0,2672.0 L 4368.0,3032.0 L 3946.0,3682.0 L 2185.0,3509.0 L 1983.0,2433.0 L 3744.0,2260.0 L 4166.0,2910.0 L 4166.0,3270.0 L 3744.0,3920.0 L 1983.0,3747.0 L 966.0,2291.0 L 2727.0,2118.0 L 3149.0,2768.0 L 3149.0,3128.0 L 2727.0,3778.0 L 966.0,3605.0 L 0.0,2347.0 L 1761.0,2174.0 L 2183.0,2824.0 L 2183.0,3184.0 L 1761.0,3834.0 L 0.0,3661.0 L 0.0,259.0 z\" /></g></svg>"
      ],
      "text/plain": [
       "<shapely.geometry.polygon.Polygon at 0x1aa0563ffc8>"
      ]
     },
     "execution_count": 73,
     "metadata": {},
     "output_type": "execute_result"
    }
   ],
   "source": [
    "hh"
   ]
  },
  {
   "cell_type": "code",
   "execution_count": 43,
   "metadata": {},
   "outputs": [],
   "source": [
    "t = Point(1000,1000)\n",
    "if hh.contains(t):\n",
    "    print('Tockata e vnatre vo poligonot')\n"
   ]
  },
  {
   "cell_type": "code",
   "execution_count": 17,
   "metadata": {},
   "outputs": [
    {
     "data": {
      "text/plain": [
       "1829682135112"
      ]
     },
     "execution_count": 17,
     "metadata": {},
     "output_type": "execute_result"
    }
   ],
   "source": [
    "0x1aa018dc048"
   ]
  },
  {
   "cell_type": "code",
   "execution_count": 44,
   "metadata": {},
   "outputs": [
    {
     "data": {
      "text/plain": [
       "(0.0, 0.0, 5183.0, 3920.0)"
      ]
     },
     "execution_count": 44,
     "metadata": {},
     "output_type": "execute_result"
    }
   ],
   "source": [
    "hh.bounds"
   ]
  },
  {
   "cell_type": "code",
   "execution_count": 49,
   "metadata": {},
   "outputs": [],
   "source": [
    "dd=[]\n",
    "dd.append([hh.bounds[0], hh.bounds[1]])\n",
    "dd.append([hh.bounds[2], hh.bounds[3]])"
   ]
  },
  {
   "cell_type": "code",
   "execution_count": 50,
   "metadata": {},
   "outputs": [
    {
     "data": {
      "text/plain": [
       "[[0.0, 0.0], [5183.0, 3920.0]]"
      ]
     },
     "execution_count": 50,
     "metadata": {},
     "output_type": "execute_result"
    }
   ],
   "source": [
    "dd"
   ]
  },
  {
   "cell_type": "code",
   "execution_count": 51,
   "metadata": {},
   "outputs": [
    {
     "ename": "ValueError",
     "evalue": "A LinearRing must have at least 3 coordinate tuples",
     "output_type": "error",
     "traceback": [
      "\u001b[1;31m---------------------------------------------------------------------------\u001b[0m",
      "\u001b[1;31mAttributeError\u001b[0m                            Traceback (most recent call last)",
      "\u001b[1;32m~\\anaconda3\\lib\\site-packages\\shapely\\speedups\\_speedups.pyx\u001b[0m in \u001b[0;36mshapely.speedups._speedups.geos_linearring_from_py\u001b[1;34m()\u001b[0m\n",
      "\u001b[1;31mAttributeError\u001b[0m: 'list' object has no attribute '__array_interface__'",
      "\nDuring handling of the above exception, another exception occurred:\n",
      "\u001b[1;31mValueError\u001b[0m                                Traceback (most recent call last)",
      "\u001b[1;32m<ipython-input-51-15950887aac3>\u001b[0m in \u001b[0;36m<module>\u001b[1;34m\u001b[0m\n\u001b[1;32m----> 1\u001b[1;33m \u001b[0mgg\u001b[0m \u001b[1;33m=\u001b[0m \u001b[0mPolygon\u001b[0m\u001b[1;33m(\u001b[0m\u001b[0mdd\u001b[0m\u001b[1;33m)\u001b[0m\u001b[1;33m\u001b[0m\u001b[1;33m\u001b[0m\u001b[0m\n\u001b[0m",
      "\u001b[1;32m~\\anaconda3\\lib\\site-packages\\shapely\\geometry\\polygon.py\u001b[0m in \u001b[0;36m__init__\u001b[1;34m(self, shell, holes)\u001b[0m\n\u001b[0;32m    241\u001b[0m \u001b[1;33m\u001b[0m\u001b[0m\n\u001b[0;32m    242\u001b[0m         \u001b[1;32mif\u001b[0m \u001b[0mshell\u001b[0m \u001b[1;32mis\u001b[0m \u001b[1;32mnot\u001b[0m \u001b[1;32mNone\u001b[0m\u001b[1;33m:\u001b[0m\u001b[1;33m\u001b[0m\u001b[1;33m\u001b[0m\u001b[0m\n\u001b[1;32m--> 243\u001b[1;33m             \u001b[0mret\u001b[0m \u001b[1;33m=\u001b[0m \u001b[0mgeos_polygon_from_py\u001b[0m\u001b[1;33m(\u001b[0m\u001b[0mshell\u001b[0m\u001b[1;33m,\u001b[0m \u001b[0mholes\u001b[0m\u001b[1;33m)\u001b[0m\u001b[1;33m\u001b[0m\u001b[1;33m\u001b[0m\u001b[0m\n\u001b[0m\u001b[0;32m    244\u001b[0m             \u001b[1;32mif\u001b[0m \u001b[0mret\u001b[0m \u001b[1;32mis\u001b[0m \u001b[1;32mnot\u001b[0m \u001b[1;32mNone\u001b[0m\u001b[1;33m:\u001b[0m\u001b[1;33m\u001b[0m\u001b[1;33m\u001b[0m\u001b[0m\n\u001b[0;32m    245\u001b[0m                 \u001b[0mself\u001b[0m\u001b[1;33m.\u001b[0m\u001b[0m_geom\u001b[0m\u001b[1;33m,\u001b[0m \u001b[0mself\u001b[0m\u001b[1;33m.\u001b[0m\u001b[0m_ndim\u001b[0m \u001b[1;33m=\u001b[0m \u001b[0mret\u001b[0m\u001b[1;33m\u001b[0m\u001b[1;33m\u001b[0m\u001b[0m\n",
      "\u001b[1;32m~\\anaconda3\\lib\\site-packages\\shapely\\geometry\\polygon.py\u001b[0m in \u001b[0;36mgeos_polygon_from_py\u001b[1;34m(shell, holes)\u001b[0m\n\u001b[0;32m    507\u001b[0m \u001b[1;33m\u001b[0m\u001b[0m\n\u001b[0;32m    508\u001b[0m     \u001b[1;32mif\u001b[0m \u001b[0mshell\u001b[0m \u001b[1;32mis\u001b[0m \u001b[1;32mnot\u001b[0m \u001b[1;32mNone\u001b[0m\u001b[1;33m:\u001b[0m\u001b[1;33m\u001b[0m\u001b[1;33m\u001b[0m\u001b[0m\n\u001b[1;32m--> 509\u001b[1;33m         \u001b[0mret\u001b[0m \u001b[1;33m=\u001b[0m \u001b[0mgeos_linearring_from_py\u001b[0m\u001b[1;33m(\u001b[0m\u001b[0mshell\u001b[0m\u001b[1;33m)\u001b[0m\u001b[1;33m\u001b[0m\u001b[1;33m\u001b[0m\u001b[0m\n\u001b[0m\u001b[0;32m    510\u001b[0m         \u001b[1;32mif\u001b[0m \u001b[0mret\u001b[0m \u001b[1;32mis\u001b[0m \u001b[1;32mNone\u001b[0m\u001b[1;33m:\u001b[0m\u001b[1;33m\u001b[0m\u001b[1;33m\u001b[0m\u001b[0m\n\u001b[0;32m    511\u001b[0m             \u001b[1;32mreturn\u001b[0m \u001b[1;32mNone\u001b[0m\u001b[1;33m\u001b[0m\u001b[1;33m\u001b[0m\u001b[0m\n",
      "\u001b[1;32m~\\anaconda3\\lib\\site-packages\\shapely\\speedups\\_speedups.pyx\u001b[0m in \u001b[0;36mshapely.speedups._speedups.geos_linearring_from_py\u001b[1;34m()\u001b[0m\n",
      "\u001b[1;31mValueError\u001b[0m: A LinearRing must have at least 3 coordinate tuples"
     ]
    }
   ],
   "source": [
    "gg = Polygon(dd)"
   ]
  },
  {
   "cell_type": "code",
   "execution_count": 52,
   "metadata": {},
   "outputs": [],
   "source": [
    "from skgeom import Point2, Bbox2, Vector2, Line2, intersection, do_intersect"
   ]
  },
  {
   "cell_type": "code",
   "execution_count": 53,
   "metadata": {},
   "outputs": [],
   "source": [
    "t = sg.Point2(234,1223)"
   ]
  },
  {
   "cell_type": "code",
   "execution_count": 54,
   "metadata": {},
   "outputs": [
    {
     "ename": "AttributeError",
     "evalue": "'skgeom._skgeom.Point2' object has no attribute 'intersection'",
     "output_type": "error",
     "traceback": [
      "\u001b[1;31m---------------------------------------------------------------------------\u001b[0m",
      "\u001b[1;31mAttributeError\u001b[0m                            Traceback (most recent call last)",
      "\u001b[1;32m<ipython-input-54-47d42bd7a652>\u001b[0m in \u001b[0;36m<module>\u001b[1;34m\u001b[0m\n\u001b[1;32m----> 1\u001b[1;33m \u001b[0mt\u001b[0m\u001b[1;33m.\u001b[0m\u001b[0mintersection\u001b[0m\u001b[1;33m(\u001b[0m\u001b[0mresult\u001b[0m\u001b[1;33m)\u001b[0m\u001b[1;33m\u001b[0m\u001b[1;33m\u001b[0m\u001b[0m\n\u001b[0m",
      "\u001b[1;31mAttributeError\u001b[0m: 'skgeom._skgeom.Point2' object has no attribute 'intersection'"
     ]
    }
   ],
   "source": [
    "t.intersection(result)"
   ]
  },
  {
   "cell_type": "code",
   "execution_count": 96,
   "metadata": {},
   "outputs": [],
   "source": [
    "poly = sg.Polygon([(-0, 2435),(966, 2491),(1983, 2349),(2949, 2405),(3966, 2263),(4168, 2501),(4717, 2480),(4919, 2718),(5468, 2697),(5734, 3247),(6000, 3797),(5819, 3930),(5819, 4094.75),(6000, 4469),(5819, 4879.99),(5819, 5062),(6000, 5141),(5734, 5745),(5468, 6349),(4919, 6328),(4717, 6566),(4168, 6545),(3966, 6783),(2949, 6641),(1983, 6697),(966, 6555),(-0, 6611),(-0, 4523)])"
   ]
  },
  {
   "cell_type": "code",
   "execution_count": 62,
   "metadata": {},
   "outputs": [],
   "source": [
    "poly = sg.Polygon([(4917, 3053),(4495, 3703),(3946, 3682),(3744, 3920),(2457.55, 3793.62),(1761, 3834),(-0, 3661),(-0, 1573),(-0, 259),(1761, 86),(2457.55, 126.38),(3744, 0),(3946, 238),(4495, 217),(4917, 867),(5183, 1417),(5183, 1777),(5081.72, 1933),(5183, 2089),(5183, 2449)])"
   ]
  },
  {
   "cell_type": "code",
   "execution_count": 63,
   "metadata": {},
   "outputs": [
    {
     "data": {
      "image/png": "[encoded data removed]",
      "text/plain": [
       "<Figure size 432x288 with 1 Axes>"
      ]
     },
     "metadata": {
      "needs_background": "light"
     },
     "output_type": "display_data"
    }
   ],
   "source": [
    "draw(poly)"
   ]
  },
  {
   "cell_type": "code",
   "execution_count": 64,
   "metadata": {},
   "outputs": [],
   "source": [
    "poly1 = Polygon([(4917, 3053),(4495, 3703),(3946, 3682),(3744, 3920),(2457.55, 3793.62),(1761, 3834),(-0, 3661),(-0, 1573),(-0, 259),(1761, 86),(2457.55, 126.38),(3744, 0),(3946, 238),(4495, 217),(4917, 867),(5183, 1417),(5183, 1777),(5081.72, 1933),(5183, 2089),(5183, 2449)])"
   ]
  },
  {
   "cell_type": "code",
   "execution_count": 65,
   "metadata": {},
   "outputs": [
    {
     "data": {
      "text/plain": [
       "shapely.geometry.polygon.Polygon"
      ]
     },
     "execution_count": 65,
     "metadata": {},
     "output_type": "execute_result"
    }
   ],
   "source": [
    "type(poly1)"
   ]
  },
  {
   "cell_type": "code",
   "execution_count": 72,
   "metadata": {},
   "outputs": [
    {
     "data": {
      "image/svg+xml": [
       "<svg xmlns=\"http://www.w3.org/2000/svg\" xmlns:xlink=\"http://www.w3.org/1999/xlink\" width=\"300\" height=\"300\" viewBox=\"-207.32 -207.32 5597.639999999999 4334.639999999999\" preserveAspectRatio=\"xMinYMin meet\"><g transform=\"matrix(1,0,0,-1,0,3919.9999999999995)\"><path fill-rule=\"evenodd\" fill=\"#66cc99\" stroke=\"#555555\" stroke-width=\"37.3176\" opacity=\"0.6\" d=\"M 4917.0,3053.0 L 4495.0,3703.0 L 3946.0,3682.0 L 3744.0,3920.0 L 2457.55,3793.62 L 1761.0,3834.0 L 0.0,3661.0 L 0.0,1573.0 L 0.0,259.0 L 1761.0,86.0 L 2457.55,126.38 L 3744.0,0.0 L 3946.0,238.0 L 4495.0,217.0 L 4917.0,867.0 L 5183.0,1417.0 L 5183.0,1777.0 L 5081.72,1933.0 L 5183.0,2089.0 L 5183.0,2449.0 L 4917.0,3053.0 z\" /></g></svg>"
      ],
      "text/plain": [
       "<shapely.geometry.polygon.Polygon at 0x1aa0570b608>"
      ]
     },
     "execution_count": 72,
     "metadata": {},
     "output_type": "execute_result"
    }
   ],
   "source": [
    "poly1"
   ]
  },
  {
   "cell_type": "code",
   "execution_count": 66,
   "metadata": {},
   "outputs": [],
   "source": [
    "t = Point(567,1234)"
   ]
  },
  {
   "cell_type": "code",
   "execution_count": 67,
   "metadata": {},
   "outputs": [
    {
     "data": {
      "text/plain": [
       "True"
      ]
     },
     "execution_count": 67,
     "metadata": {},
     "output_type": "execute_result"
    }
   ],
   "source": [
    "t.within(poly1)"
   ]
  },
  {
   "cell_type": "code",
   "execution_count": null,
   "metadata": {},
   "outputs": [],
   "source": []
  },
  {
   "cell_type": "code",
   "execution_count": 102,
   "metadata": {},
   "outputs": [
    {
     "ename": "TypeError",
     "evalue": "__init__(): incompatible constructor arguments. The following argument types are supported:\n    1. skgeom._skgeom.Polygon()\n    2. skgeom._skgeom.Polygon(arg0: List[skgeom._skgeom.Point2])\n    3. skgeom._skgeom.Polygon(arg0: numpy.ndarray[float64])\n\nInvoked with: Polygon_with_holes_2(\nBoundary(\nPolygon_2(\n  PointC2(8595, 4172)\n  PointC2(8329, 4776)\n  PointC2(7762.18, 4776)\n  PointC2(7578, 4993)\n  PointC2(4984, 4993)\n  PointC2(4368.07, 4907)\n  PointC2(3001, 4907)\n  PointC2(3001, 2819)\n  PointC2(3057, 1526)\n  PointC2(4023, 1582)\n  PointC2(4664.61, 1492.41)\n  PointC2(4892, 1453)\n  PointC2(4930.79, 1455.25)\n  PointC2(5040, 1440)\n  PointC2(5916.9, 1500.78)\n  PointC2(6875, 1367)\n  PointC2(7117.21, 1603.46)\n  PointC2(7626, 1584)\n  PointC2(7889.26, 1841.02)\n  PointC2(8308, 1825)\n  PointC2(8574, 2375)\n  PointC2(8677, 3060)\n  PointC2(8621.08, 3360.08)\n  PointC2(8677, 3732)\n)\n\nHoles\n0\n)\n",
     "output_type": "error",
     "traceback": [
      "\u001b[1;31m---------------------------------------------------------------------------\u001b[0m",
      "\u001b[1;31mTypeError\u001b[0m                                 Traceback (most recent call last)",
      "\u001b[1;32m<ipython-input-102-1d2db3adad4a>\u001b[0m in \u001b[0;36m<module>\u001b[1;34m\u001b[0m\n\u001b[0;32m      6\u001b[0m \u001b[0mdraw\u001b[0m\u001b[1;33m(\u001b[0m\u001b[0mp2\u001b[0m\u001b[1;33m,\u001b[0m \u001b[0mfacecolor\u001b[0m\u001b[1;33m=\u001b[0m\u001b[1;34m'blue'\u001b[0m\u001b[1;33m)\u001b[0m\u001b[1;33m\u001b[0m\u001b[1;33m\u001b[0m\u001b[0m\n\u001b[0;32m      7\u001b[0m \u001b[0mresult\u001b[0m \u001b[1;33m=\u001b[0m \u001b[0mminkowski\u001b[0m\u001b[1;33m.\u001b[0m\u001b[0mminkowski_sum\u001b[0m\u001b[1;33m(\u001b[0m\u001b[0mp2\u001b[0m\u001b[1;33m,\u001b[0m \u001b[0mp1\u001b[0m\u001b[1;33m)\u001b[0m\u001b[1;33m\u001b[0m\u001b[1;33m\u001b[0m\u001b[0m\n\u001b[1;32m----> 8\u001b[1;33m \u001b[0mkkkk\u001b[0m \u001b[1;33m=\u001b[0m \u001b[0msg\u001b[0m\u001b[1;33m.\u001b[0m\u001b[0mPolygon\u001b[0m\u001b[1;33m(\u001b[0m\u001b[0mresult\u001b[0m\u001b[1;33m)\u001b[0m\u001b[1;33m\u001b[0m\u001b[1;33m\u001b[0m\u001b[0m\n\u001b[0m\u001b[0;32m      9\u001b[0m \u001b[1;33m\u001b[0m\u001b[0m\n",
      "\u001b[1;31mTypeError\u001b[0m: __init__(): incompatible constructor arguments. The following argument types are supported:\n    1. skgeom._skgeom.Polygon()\n    2. skgeom._skgeom.Polygon(arg0: List[skgeom._skgeom.Point2])\n    3. skgeom._skgeom.Polygon(arg0: numpy.ndarray[float64])\n\nInvoked with: Polygon_with_holes_2(\nBoundary(\nPolygon_2(\n  PointC2(8595, 4172)\n  PointC2(8329, 4776)\n  PointC2(7762.18, 4776)\n  PointC2(7578, 4993)\n  PointC2(4984, 4993)\n  PointC2(4368.07, 4907)\n  PointC2(3001, 4907)\n  PointC2(3001, 2819)\n  PointC2(3057, 1526)\n  PointC2(4023, 1582)\n  PointC2(4664.61, 1492.41)\n  PointC2(4892, 1453)\n  PointC2(4930.79, 1455.25)\n  PointC2(5040, 1440)\n  PointC2(5916.9, 1500.78)\n  PointC2(6875, 1367)\n  PointC2(7117.21, 1603.46)\n  PointC2(7626, 1584)\n  PointC2(7889.26, 1841.02)\n  PointC2(8308, 1825)\n  PointC2(8574, 2375)\n  PointC2(8677, 3060)\n  PointC2(8621.08, 3360.08)\n  PointC2(8677, 3732)\n)\n\nHoles\n0\n)\n"
     ]
    },
    {
     "data": {
      "image/png": "[encoded data removed]",
      "text/plain": [
       "<Figure size 432x288 with 1 Axes>"
      ]
     },
     "metadata": {
      "needs_background": "light"
     },
     "output_type": "display_data"
    }
   ],
   "source": [
    "coord_p0 = [[0, 86], [966, 142], [1983, 0], [2185, 238], [2734, 217], [3000, 767], [2819, 900], [2819, 1360], [3000, 1439], [2734, 2043],[2185, 2022], [1983, 2260], [966, 2118],[0, 2174]]\n",
    "p1 = sg.Polygon(coord_p0)\n",
    "coord_p3 = [[3057, 1440], [4067, 1510], [4892, 1367], [5187, 1655], [5574, 1608], [5677, 2293], [5595, 2733], [3001, 2733]]\n",
    "p2 = sg.Polygon(coord_p3)\n",
    "draw(p1, facecolor='red')\n",
    "draw(p2, facecolor='blue')\n",
    "result = minkowski.minkowski_sum(p2, p1)\n",
    "kkkk = sg.Polygon(result)\n",
    "\n",
    "(8595, 4172),(8329, 4776),(7762.18, 4776),(7578, 4993),(4984, 4993),(4368.07, 4907),(3001, 4907),(3001, 2819),(3057, 1526),(4023, 1582),(4664.61, 1492.41),(4892, 1453),(4930.79, 1455.25),(5040, 1440),(5916.9, 1500.78),(6875, 1367),(7117.21, 1603.46),(7626, 1584),(7889.26, 1841.02),(8308, 1825),(8574, 2375),(8677, 3060),(8621.08, 3360.08),(8677, 3732)"
   ]
  },
  {
   "cell_type": "code",
   "execution_count": null,
   "metadata": {},
   "outputs": [],
   "source": [
    "def NFP(i, j, pointj):\n",
    "    if i == 0 and j == 1:  \n",
    "        coord_p0 = [[0, 86], [966, 142], [1983, 0], [2185, 238], [2734, 217], [3000, 767], [2819, 900], [2819, 1360], [3000, 1439], [2734, 2043],[2185, 2022], [1983, 2260], [966, 2118],[0, 2174]]\n",
    "        p1 = sg.Polygon(coord_p0)\n",
    "        coord_p1 = [[0, 2349], [966, 2405], [1983, 2263], [2185, 2501], [2734, 2480], [3000, 3030], [2819, 3163], [2819, 3623], [3000, 3702], [2734, 4306], [2185, 4285], [1983, 4523], [966, 4381], [0, 4437]]\n",
    "        p2 = sg.Polygon(coord_p1)\n",
    "        draw(p1, facecolor='red')\n",
    "        draw(p2, facecolor='blue')\n",
    "        result = minkowski.minkowski_sum(p2, p1)\n",
    "        draw(result)\n",
    "        poly = sg.Polygon([(-0, 2435),(966, 2491),(1983, 2349),(2949, 2405),(3966, 2263),(4168, 2501),(4717, 2480),(4919, 2718),(5468, 2697),(5734, 3247),(6000, 3797),(5819, 3930),(5819, 4094.75),(6000, 4469),(5819, 4879.99),(5819, 5062),(6000, 5141),(5734, 5745),(5468, 6349),(4919, 6328),(4717, 6566),(4168, 6545),(3966, 6783),(2949, 6641),(1983, 6697),(966, 6555),(-0, 6611),(-0, 4523)])\n",
    "        if pointj.within(poly):\n",
    "            f = 1\n",
    "        else :\n",
    "            f = -1\n",
    "    if i == 0 and j == 2:  \n",
    "        coord_p0 = [[0, 86], [966, 142], [1983, 0], [2185, 238], [2734, 217], [3000, 767], [2819, 900], [2819, 1360], [3000, 1439], [2734, 2043],[2185, 2022], [1983, 2260], [966, 2118],[0, 2174]]\n",
    "        p1 = sg.Polygon(coord_p0)\n",
    "        coord_p2 = [[3056, 73], [4066, 143], [4891, 0], [5186, 288], [5573, 241], [5676, 926], [5594, 1366], [3000, 1366]]\n",
    "        p2 = sg.Polygon(coord_p2)\n",
    "        draw(p1, facecolor='red')\n",
    "        draw(p2, facecolor='blue')\n",
    "        result = minkowski.minkowski_sum(p2, p1)\n",
    "        draw(result)\n",
    "        poly = sg.Polygon([(8594, 2805),(8328, 3409),(7761.18, 3409),(7577, 3626),(4983, 3626),(4367.07, 3540),(3000, 3540),(3000, 1452),(3056, 159),(4022, 215),(4663.61, 125.415),(4891, 86),(4929.79, 88.2487),(5039, 73),(5915.9, 133.775),(6874, 0),(7116.21, 236.462),(7625, 217),(7888.26, 474.017),(8307, 458),(8573, 1008),(8676, 1693),(8620.08, 1993.08),(8676, 2365)])\n",
    "        if pointj.within(poly):\n",
    "            f = 1\n",
    "        else :\n",
    "            f = -1\n",
    "    if i == 0 and j == 3:\n",
    "        coord_p0 = [[0, 86], [966, 142], [1983, 0], [2185, 238], [2734, 217], [3000, 767], [2819, 900], [2819, 1360], [3000, 1439], [2734, 2043],[2185, 2022], [1983, 2260], [966, 2118],[0, 2174]]\n",
    "        p1 = sg.Polygon(coord_p0)\n",
    "        coord_p3 = [[3057, 1440], [4067, 1510], [4892, 1367], [5187, 1655], [5574, 1608], [5677, 2293], [5595, 2733], [3001, 2733]]\n",
    "        p2 = sg.Polygon(coord_p3)\n",
    "        draw(p1, facecolor='red')\n",
    "        draw(p2, facecolor='blue')\n",
    "        result = minkowski.minkowski_sum(p2, p1)\n",
    "        draw(result)\n",
    "        poly = sg.Polygon([(8595, 4172),(8329, 4776),(7762.18, 4776),(7578, 4993),(4984, 4993),(4368.07, 4907),(3001, 4907),(3001, 2819),(3057, 1526),(4023, 1582),(4664.61, 1492.41),(4892, 1453),(4930.79, 1455.25),(5040, 1440),(5916.9, 1500.78),(6875, 1367),(7117.21, 1603.46),(7626, 1584),(7889.26, 1841.02),(8308, 1825),(8574, 2375),(8677, 3060),(8621.08, 3360.08),(8677, 3732)])\n",
    "        if pointj.within(poly):\n",
    "            f = 1\n",
    "        else :\n",
    "            f = -1\n",
    "    if i == 0 and j == 4:\n",
    "        coord_p0 = [[0, 86], [966, 142], [1983, 0], [2185, 238], [2734, 217], [3000, 767], [2819, 900], [2819, 1360], [3000, 1439], [2734, 2043],[2185, 2022], [1983, 2260], [966, 2118],[0, 2174]]\n",
    "        p1 = sg.Polygon(coord_p0)\n",
    "        coord_p4 = [[3002, 2734], [5501, 2734], [5707, 3121], [5624, 3668], [5150, 3701], [4922, 3886], [4063, 3793], [3002, 3859]]\n",
    "        p2 = sg.Polygon(coord_p4)\n",
    "        draw(p1, facecolor='red')\n",
    "        draw(p2, facecolor='blue')\n",
    "        result = minkowski.minkowski_sum(p2, p1)\n",
    "        draw(result)\n",
    "        poly = sg.Polygon([(-0, 2435),(966, 2491),(1983, 2349),(2949, 2405),(3966, 2263),(4168, 2501),(4717, 2480),(4919, 2718),(5468, 2697),(5734, 3247),(6000, 3797),(5819, 3930),(5819, 4094.75),(6000, 4469),(5819, 4879.99),(5819, 5062),(6000, 5141),(5734, 5745),(5468, 6349),(4919, 6328),(4717, 6566),(4168, 6545),(3966, 6783),(2949, 6641),(1983, 6697),(966, 6555),(-0, 6611),(-0, 4523)])\n",
    "        if pointj.within(poly):\n",
    "            f = 1\n",
    "        else :\n",
    "            f = -1\n",
    "    if i == 0 and j == 5:\n",
    "        coord_p0 = [[0, 86], [966, 142], [1983, 0], [2185, 238], [2734, 217], [3000, 767], [2819, 900], [2819, 1360], [3000, 1439], [2734, 2043],[2185, 2022], [1983, 2260], [966, 2118],[0, 2174]]\n",
    "        p1 = sg.Polygon(coord_p0)\n",
    "        coord_p5 = [[5730, 2263], [8229, 2263], [8435, 2650], [8352, 3197], [7878, 3230], [7650, 3415], [6791, 3322], [5730, 3388]]\n",
    "        p2 = sg.Polygon(coord_p5)\n",
    "        draw(p1, facecolor='red')\n",
    "        draw(p2, facecolor='blue')\n",
    "        result = minkowski.minkowski_sum(p2, p1)\n",
    "        draw(result)\n",
    "        poly = sg.Polygon([(-0, 2435),(966, 2491),(1983, 2349),(2949, 2405),(3966, 2263),(4168, 2501),(4717, 2480),(4919, 2718),(5468, 2697),(5734, 3247),(6000, 3797),(5819, 3930),(5819, 4094.75),(6000, 4469),(5819, 4879.99),(5819, 5062),(6000, 5141),(5734, 5745),(5468, 6349),(4919, 6328),(4717, 6566),(4168, 6545),(3966, 6783),(2949, 6641),(1983, 6697),(966, 6555),(-0, 6611),(-0, 4523)])\n",
    "        if pointj.within(poly):\n",
    "            f = 1\n",
    "        else :\n",
    "            f = -1\n",
    "    if i == 0 and j == 6:   \n",
    "        coord_p0 = [[0, 86], [966, 142], [1983, 0], [2185, 238], [2734, 217], [3000, 767], [2819, 900], [2819, 1360], [3000, 1439], [2734, 2043],[2185, 2022], [1983, 2260], [966, 2118],[0, 2174]]\n",
    "        p1 = sg.Polygon(coord_p0)\n",
    "        coord_p6 = [[1, 4524], [412, 4589], [801, 4524], [1190, 4589], [1601, 4524], [1501, 4892], [801, 4810], [101, 4892]]\n",
    "        p2 = sg.Polygon(coord_p6)\n",
    "        draw(p1, facecolor='red')\n",
    "        draw(p2, facecolor='blue')\n",
    "        result = minkowski.minkowski_sum(p2, p1)\n",
    "        draw(result)\n",
    "        poly = sg.Polygon([(-0, 2435),(966, 2491),(1983, 2349),(2949, 2405),(3966, 2263),(4168, 2501),(4717, 2480),(4919, 2718),(5468, 2697),(5734, 3247),(6000, 3797),(5819, 3930),(5819, 4094.75),(6000, 4469),(5819, 4879.99),(5819, 5062),(6000, 5141),(5734, 5745),(5468, 6349),(4919, 6328),(4717, 6566),(4168, 6545),(3966, 6783),(2949, 6641),(1983, 6697),(966, 6555),(-0, 6611),(-0, 4523)])\n",
    "        if pointj.within(poly):\n",
    "            f = 1\n",
    "        else :\n",
    "            f = -1\n",
    "    if i == 0 and j == 7:\n",
    "        coord_p0 = [[0, 86], [966, 142], [1983, 0], [2185, 238], [2734, 217], [3000, 767], [2819, 900], [2819, 1360], [3000, 1439], [2734, 2043],[2185, 2022], [1983, 2260], [966, 2118],[0, 2174]]\n",
    "        p1 = sg.Polygon(coord_p0)\n",
    "        coord_p7 = [[3003, 3887], [3414, 3952], [3803, 3887], [4192, 3952], [4603, 3887], [4503, 4255], [3803, 4173], [3103, 4255]]\n",
    "        p2 = sg.Polygon(coord_p7)\n",
    "        draw(p1, facecolor='red')\n",
    "        draw(p2, facecolor='blue')\n",
    "        result = minkowski.minkowski_sum(p2, p1)\n",
    "        draw(result)\n",
    "        poly = sg.Polygon([(-0, 2435),(966, 2491),(1983, 2349),(2949, 2405),(3966, 2263),(4168, 2501),(4717, 2480),(4919, 2718),(5468, 2697),(5734, 3247),(6000, 3797),(5819, 3930),(5819, 4094.75),(6000, 4469),(5819, 4879.99),(5819, 5062),(6000, 5141),(5734, 5745),(5468, 6349),(4919, 6328),(4717, 6566),(4168, 6545),(3966, 6783),(2949, 6641),(1983, 6697),(966, 6555),(-0, 6611),(-0, 4523)])\n",
    "        if pointj.within(poly):\n",
    "            f = 1\n",
    "        else :\n",
    "            f = -1\n",
    "    if i == 0 and j == 8:  \n",
    "        coord_p0 = [[0, 86], [966, 142], [1983, 0], [2185, 238], [2734, 217], [3000, 767], [2819, 900], [2819, 1360], [3000, 1439], [2734, 2043],[2185, 2022], [1983, 2260], [966, 2118],[0, 2174]]\n",
    "        p1 = sg.Polygon(coord_p0)\n",
    "        coord_p8 = [[5731, 3416], [6142, 3481], [6531, 3416], [6920, 3481], [7331, 3416], [7231, 3784], [6531, 3702], [5831, 3784]]\n",
    "        p2 = sg.Polygon(coord_p8)\n",
    "        draw(p1, facecolor='red')\n",
    "        draw(p2, facecolor='blue')\n",
    "        result = minkowski.minkowski_sum(p2, p1)\n",
    "        draw(result)\n",
    "        poly = sg.Polygon([(-0, 2435),(966, 2491),(1983, 2349),(2949, 2405),(3966, 2263),(4168, 2501),(4717, 2480),(4919, 2718),(5468, 2697),(5734, 3247),(6000, 3797),(5819, 3930),(5819, 4094.75),(6000, 4469),(5819, 4879.99),(5819, 5062),(6000, 5141),(5734, 5745),(5468, 6349),(4919, 6328),(4717, 6566),(4168, 6545),(3966, 6783),(2949, 6641),(1983, 6697),(966, 6555),(-0, 6611),(-0, 4523)])\n",
    "        if pointj.within(poly):\n",
    "            f = 1\n",
    "        else :\n",
    "            f = -1\n",
    "    if i == 0 and j == 9:  \n",
    "        coord_p0 = [[0, 86], [966, 142], [1983, 0], [2185, 238], [2734, 217], [3000, 767], [2819, 900], [2819, 1360], [3000, 1439], [2734, 2043],[2185, 2022], [1983, 2260], [966, 2118],[0, 2174]]\n",
    "        p1 = sg.Polygon(coord_p0)\n",
    "        coord_p9 = [[3004, 4256], [3415, 4321], [3804, 4256], [4193, 4321], [4604, 4256], [4504, 4624], [3804, 4542], [3104, 4624]]\n",
    "        p2 = sg.Polygon(coord_p9)\n",
    "        draw(p1, facecolor='red')\n",
    "        draw(p2, facecolor='blue')\n",
    "        result = minkowski.minkowski_sum(p2, p1)\n",
    "        draw(result)\n",
    "        poly = sg.Polygon([(-0, 2435),(966, 2491),(1983, 2349),(2949, 2405),(3966, 2263),(4168, 2501),(4717, 2480),(4919, 2718),(5468, 2697),(5734, 3247),(6000, 3797),(5819, 3930),(5819, 4094.75),(6000, 4469),(5819, 4879.99),(5819, 5062),(6000, 5141),(5734, 5745),(5468, 6349),(4919, 6328),(4717, 6566),(4168, 6545),(3966, 6783),(2949, 6641),(1983, 6697),(966, 6555),(-0, 6611),(-0, 4523)])\n",
    "        if pointj.within(poly):\n",
    "            f = 1\n",
    "        else :\n",
    "            f = -1\n",
    "    if i == 0 and j == 10: \n",
    "        coord_p0 = [[0, 86], [966, 142], [1983, 0], [2185, 238], [2734, 217], [3000, 767], [2819, 900], [2819, 1360], [3000, 1439], [2734, 2043],[2185, 2022], [1983, 2260], [966, 2118],[0, 2174]]\n",
    "        p1 = sg.Polygon(coord_p0)\n",
    "        coord_p10 = [[5806, 3785], [6602, 3904], [7398, 3785], [7472, 3910], [6602, 4090], [5732, 3910]]\n",
    "        p2 = sg.Polygon(coord_p10)\n",
    "        draw(p1, facecolor='red')\n",
    "        draw(p2, facecolor='blue')\n",
    "        result = minkowski.minkowski_sum(p2, p1)\n",
    "        draw(result)\n",
    "        poly = sg.Polygon([(-0, 2435),(966, 2491),(1983, 2349),(2949, 2405),(3966, 2263),(4168, 2501),(4717, 2480),(4919, 2718),(5468, 2697),(5734, 3247),(6000, 3797),(5819, 3930),(5819, 4094.75),(6000, 4469),(5819, 4879.99),(5819, 5062),(6000, 5141),(5734, 5745),(5468, 6349),(4919, 6328),(4717, 6566),(4168, 6545),(3966, 6783),(2949, 6641),(1983, 6697),(966, 6555),(-0, 6611),(-0, 4523)])\n",
    "        if pointj.within(poly):\n",
    "            f = 1\n",
    "        else :\n",
    "            f = -1        \n",
    "    if i == 0 and j == 11:\n",
    "        coord_p0 = [[0, 86], [966, 142], [1983, 0], [2185, 238], [2734, 217], [3000, 767], [2819, 900], [2819, 1360], [3000, 1439], [2734, 2043],[2185, 2022], [1983, 2260], [966, 2118],[0, 2174]]\n",
    "        p1 = sg.Polygon(coord_p0)\n",
    "        coord_p11 = [[7635.500000000099, 3413], [9396.499999999603, 3240], [9818.499999999603, 3890], [9818.499999999603, 4250], [9396.499999999603, 4900], [7635.500000000099, 4727]]\n",
    "        p2 = sg.Polygon(coord_p11)\n",
    "        draw(p1, facecolor='red')\n",
    "        draw(p2, facecolor='blue')\n",
    "        result = minkowski.minkowski_sum(p2, p1)\n",
    "        draw(result)\n",
    "        poly = sg.Polygon([(-0, 2435),(966, 2491),(1983, 2349),(2949, 2405),(3966, 2263),(4168, 2501),(4717, 2480),(4919, 2718),(5468, 2697),(5734, 3247),(6000, 3797),(5819, 3930),(5819, 4094.75),(6000, 4469),(5819, 4879.99),(5819, 5062),(6000, 5141),(5734, 5745),(5468, 6349),(4919, 6328),(4717, 6566),(4168, 6545),(3966, 6783),(2949, 6641),(1983, 6697),(966, 6555),(-0, 6611),(-0, 4523)])\n",
    "        if pointj.within(poly):\n",
    "            f = 1\n",
    "        else :\n",
    "            f = -1 \n",
    "    if i == 0 and j == 12:\n",
    "    if i == 0 and j == 13:  \n",
    "    if i == 0 and j == 14:  \n",
    "    if i == 0 and j == 15:\n",
    "    if i == 0 and j == 16:   \n",
    "    if i == 0 and j == 17:     \n",
    "    if i == 0 and j == 18: \n",
    "    if i == 0 and j == 19:\n",
    "    if i == 0 and j == 20: \n",
    "    if i == 0 and j == 21: \n",
    "    if i == 0 and j == 22: \n",
    "    if i == 0 and j == 23:\n",
    "        \n",
    "    if i == 1 and j == 2:\n",
    "    if i == 1 and j == 3:\n",
    "    if i == 1 and j == 4:   \n",
    "    if i == 1 and j == 5: \n",
    "    if i == 1 and j == 6: \n",
    "    if i == 1 and j == 7:\n",
    "    if i == 1 and j == 8:\n",
    "    if i == 1 and j == 9:  \n",
    "    if i == 1 and j == 10: \n",
    "    if i == 1 and j == 11:\n",
    "    if i == 1 and j == 12:\n",
    "    if i == 1 and j == 13: \n",
    "    if i == 1 and j == 14: \n",
    "    if i == 1 and j == 15:\n",
    "    if i == 1 and j == 16:\n",
    "    if i == 1 and j == 17:  \n",
    "    if i == 1 and j == 18: \n",
    "    if i == 1 and j == 19:\n",
    "    if i == 1 and j == 20:\n",
    "    if i == 1 and j == 21:\n",
    "    if i == 1 and j == 22:\n",
    "    if i == 1 and j == 23:     \n",
    "        \n",
    "    if i == 2 and j == 3:\n",
    "    if i == 2 and j == 4:\n",
    "    if i == 2 and j == 5:\n",
    "    if i == 2 and j == 6:\n",
    "    if i == 2 and j == 7:\n",
    "    if i == 2 and j == 8:\n",
    "    if i == 2 and j == 9:\n",
    "    if i == 2 and j == 10:\n",
    "    if i == 2 and j == 11:\n",
    "    if i == 2 and j == 12:\n",
    "    if i == 2 and j == 13:\n",
    "    if i == 2 and j == 14: \n",
    "    if i == 2 and j == 15:\n",
    "    if i == 2 and j == 16:\n",
    "    if i == 2 and j == 17:\n",
    "    if i == 2 and j == 18:\n",
    "    if i == 2 and j == 19:\n",
    "    if i == 2 and j == 20: \n",
    "    if i == 2 and j == 21:  \n",
    "    if i == 2 and j == 22:  \n",
    "    if i == 2 and j == 23:    \n",
    "        \n",
    "    if i == 3 and j == 4:\n",
    "    if i == 3 and j == 5:\n",
    "    if i == 3 and j == 6:\n",
    "    if i == 3 and j == 7:\n",
    "    if i == 3 and j == 8:\n",
    "    if i == 3 and j == 9:\n",
    "    if i == 3 and j == 10:\n",
    "    if i == 3 and j == 11:\n",
    "    if i == 3 and j == 12:\n",
    "    if i == 3 and j == 13:\n",
    "    if i == 3 and j == 14: \n",
    "    if i == 3 and j == 15:\n",
    "    if i == 3 and j == 16:\n",
    "    if i == 3 and j == 17:\n",
    "    if i == 3 and j == 18:\n",
    "    if i == 3 and j == 19:\n",
    "    if i == 3 and j == 20: \n",
    "    if i == 3 and j == 21:  \n",
    "    if i == 3 and j == 22:  \n",
    "    if i == 3 and j == 23: \n",
    " \n",
    "    if i == 4 and j == 5:\n",
    "    if i == 4 and j == 6:\n",
    "    if i == 4 and j == 7:\n",
    "    if i == 4 and j == 8:\n",
    "    if i == 4 and j == 9:\n",
    "    if i == 4 and j == 10:\n",
    "    if i == 4 and j == 11:\n",
    "    if i == 4 and j == 12:\n",
    "    if i == 4 and j == 13:\n",
    "    if i == 4 and j == 14: \n",
    "    if i == 4 and j == 15:\n",
    "    if i == 4 and j == 16:\n",
    "    if i == 4 and j == 17:\n",
    "    if i == 4 and j == 18:\n",
    "    if i == 4 and j == 19:\n",
    "    if i == 4 and j == 20: \n",
    "    if i == 4 and j == 21:  \n",
    "    if i == 4 and j == 22:  \n",
    "    if i == 4 and j == 23: \n",
    "        "
   ]
  }
 ],
 "metadata": {
  "kernelspec": {
   "display_name": "Python 3",
   "language": "python",
   "name": "python3"
  },
  "language_info": {
   "codemirror_mode": {
    "name": "ipython",
    "version": 3
   },
   "file_extension": ".py",
   "mimetype": "text/x-python",
   "name": "python",
   "nbconvert_exporter": "python",
   "pygments_lexer": "ipython3",
   "version": "3.7.6"
  }
 },
 "nbformat": 4,
 "nbformat_minor": 4
}
