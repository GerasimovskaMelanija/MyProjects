{
 "cells": [
  {
   "cell_type": "code",
   "execution_count": null,
   "metadata": {},
   "outputs": [],
   "source": [
    "from shapely.geometry import Polygon\n",
    "import matplotlib.pyplot as plt\n",
    "import seaborn as sns\n",
    "polygon1 = Polygon([[0, 86], [966, 142], [1983, 0], [2185, 238], [2734, 217],[3000, 767],[2819, 900], [2819, 1360], [3000, 1439], [2734, 2043], [2185, 2022], [1983, 2260], [966, 2118], [0, 2174]])\n",
    "area1 = polygon1.area\n",
    "print( 'Area is :',area1)\n",
    "length1 = polygon1.length\n",
    "print('Length is :', length1)\n",
    "print('Bounds :', polygon1.bounds)\n",
    "print(polygon1.exterior.coords)\n",
    "#plt.plot(area1, 'g-')"
   ]
  },
  {
   "cell_type": "code",
   "execution_count": null,
   "metadata": {},
   "outputs": [],
   "source": [
    "fig, (ax1, ax2, ax3, ax4, ax5, ax6, ax7, ax8, ax9, ax10, ax11, ax12, ax13, ax14, ax15, ax16, ax17, ax18, ax19, ax20, ax21, ax22, ax23, ax24) = plt.subplots(6, 4)\n",
    "fig.suptitle('Polygons')\n",
    "ax1.plot(x1, y1)\n",
    "ax2.plot(x2, y2)\n",
    "ax3.plot(x3, y3)\n",
    "ax4.plot(x4, y4)\n",
    "ax5.plot(x5, y5)\n",
    "ax6.plot(x6, y6)\n",
    "ax7.plot(x7, y7)\n",
    "ax8.plot(x8, y8)\n",
    "ax9.plot(x9, y9)\n",
    "ax10.plot(x10, y10)\n",
    "ax11.plot(x11, y11)\n",
    "ax12.plot(x12, y12)\n",
    "ax13.plot(x13, y13)\n",
    "ax14.plot(x14, y14)\n",
    "ax15.plot(x15, y15)\n",
    "ax16.plot(x16, y16)\n",
    "ax17.plot(x17, y17)\n",
    "ax18.plot(x18, y18)\n",
    "ax19.plot(x19, y19)\n",
    "ax20.plot(x20, y20)\n",
    "ax21.plot(x21, y21)\n",
    "ax22.plot(x22, y22)\n",
    "ax23.plot(x23, y23)\n",
    "ax24.plot(x24, y24)\n"
   ]
  },
  {
   "cell_type": "code",
   "execution_count": null,
   "metadata": {},
   "outputs": [],
   "source": [
    "import random\n",
    "#polygons = random.sample(Poligoni, k=24)\n",
    "from shapely.geometry import Point, Polygon\n",
    "pp = Polygon(p1)\n",
    "print(pp)\n",
    "print()\n",
    "polygon1 = Polygon([(0, 86), (966, 142), (1983, 0), (2185, 238), (2734, 217),(3000, 767),(2819, 900), (2819, 1360), (3000, 1439), (2734, 2043), (2185, 2022), (1983, 2260), (966, 2118), (0, 2174)])\n",
    "print(polygon1)"
   ]
  },
  {
   "cell_type": "code",
   "execution_count": null,
   "metadata": {},
   "outputs": [],
   "source": [
    "polygons = random.sample(Poligoni, k=3)#so k oznacuvame kolku poligoni sakame da postavime, no ke gi izbirame random\n",
    "koord1 = polygons[0]\n",
    "koord2 = polygons[1]\n",
    "koord3 = polygons[2]\n",
    "pp=[]\n",
    "pp.append(Polygon(koord1)) #pp[0] = poligon na parce1 (kade sto se smesteni koordinati)\n",
    "pp.append(Polygon(koord2))\n",
    "pp.append(Polygon(koord3))\n",
    "print(pp)"
   ]
  },
  {
   "cell_type": "code",
   "execution_count": null,
   "metadata": {},
   "outputs": [],
   "source": [
    "W_grid = 15\n",
    "L_grid = 15\n",
    "\n",
    "fig, axes = plt.subplots(L_grid, W_grid, figsize = (25, 25))\n",
    "axes = axes.ravel()\n",
    "\n",
    "n_training = len(X_train)\n",
    "\n",
    "for i in np.arange(0, 2):\n",
    "  \n",
    "    axes[i].imshow(x[i])\n",
    "    axes[i].axis('off')\n",
    "    \n",
    "plt.subplots_adjust(hspace = 0.4)"
   ]
  }
 ],
 "metadata": {
  "kernelspec": {
   "display_name": "Python 3",
   "language": "python",
   "name": "python3"
  },
  "language_info": {
   "codemirror_mode": {
    "name": "ipython",
    "version": 3
   },
   "file_extension": ".py",
   "mimetype": "text/x-python",
   "name": "python",
   "nbconvert_exporter": "python",
   "pygments_lexer": "ipython3",
   "version": "3.7.6"
  }
 },
 "nbformat": 4,
 "nbformat_minor": 4
}
