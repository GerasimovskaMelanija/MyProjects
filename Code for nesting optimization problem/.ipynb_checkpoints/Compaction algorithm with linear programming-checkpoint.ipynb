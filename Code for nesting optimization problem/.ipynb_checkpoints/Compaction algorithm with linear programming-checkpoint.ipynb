{
 "cells": [
  {
   "cell_type": "code",
   "execution_count": null,
   "metadata": {},
   "outputs": [],
   "source": [
    "import pymprog as pm\n",
    "pm.begin('Minimize')\n",
    "#pm.verbose(True)\n",
    "z = pm.var('z') # variables\n",
    "x = pm.var('x',N,kind=int)\n",
    "W = pm.var('W',N)\n",
    "W* = pm.var('W*',N)\n",
    "distance = pm.var('distance',N)\n",
    "X = pm.var('X',N)\n",
    "Y = pm.var('Y',N)\n",
    "H = pm.var('H',N)\n",
    "H* = pm.var('H*',N)\n",
    "W0,H0 = pm.var('W0,H0')\n",
    "pm.minimize(z, 'cost') # cost function\n",
    "#for i in range(0,N):\n",
    "#xi i yi su koordinate na svako parce i njegova placement point\n",
    "#z is an auxiliary variable that stands for the layout length\n",
    "#W0 i H0 se sirina i visina na objektot soodvetno\n",
    "#Hi* e vestikalnoto rastojanie od pocetnata tocka na parce do placement point, a Hi e ostanatoto rastojanie do krajot na parceto\n",
    "#Wi* e horizontalnoto rastojanie od pocetnota tocna na parceto do placement point, a Wi e ostanatoto rastojanie do krajot na parceto\n",
    "\n",
    "N is the number of pieces in the layout\n",
    "i>=1\n",
    "i<=24\n",
    "z>=x[i]+W[i]\n",
    "x[i]-X[i]<=distance[i]\n",
    "y[i]-Y[i]<=distance[i]\n",
    "-x[i]+X[i]<=distance[i]\n",
    "-y[i]+Y[i]<=distance[i]\n",
    "x[i]>=0+W[i]\n",
    "y[i]>=0+H[i]\n",
    "x[i]<=W0-W[i]\n",
    "y[i]<=H0-H[i]\n",
    "x[i]>=0\n",
    "y[i]>=0\n",
    "z>=0\n",
    "<=0\n",
    "pm.solve()\n",
    "print ('\\nMin cost is: ', pm.vobj())\n",
    "pm.end()"
   ]
  }
 ],
 "metadata": {
  "kernelspec": {
   "display_name": "Python 3",
   "language": "python",
   "name": "python3"
  },
  "language_info": {
   "codemirror_mode": {
    "name": "ipython",
    "version": 3
   },
   "file_extension": ".py",
   "mimetype": "text/x-python",
   "name": "python",
   "nbconvert_exporter": "python",
   "pygments_lexer": "ipython3",
   "version": "3.7.6"
  }
 },
 "nbformat": 4,
 "nbformat_minor": 4
}
